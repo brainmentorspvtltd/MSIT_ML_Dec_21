{
  "nbformat": 4,
  "nbformat_minor": 0,
  "metadata": {
    "colab": {
      "name": "PythonBasics.ipynb",
      "provenance": [],
      "collapsed_sections": []
    },
    "kernelspec": {
      "name": "python3",
      "display_name": "Python 3"
    },
    "language_info": {
      "name": "python"
    }
  },
  "cells": [
    {
      "cell_type": "markdown",
      "metadata": {
        "id": "G6jPa4KKBt_S"
      },
      "source": [
        "Python\n",
        "- General Purpose\n",
        "  - Web Dev + Software Dev and Testing + Games + Data Science + Security + Networking\n",
        "- Dynamically Typed\n",
        "- Interpreted Language\n",
        "- Multi-Paradigm\n",
        "  - Object Oriented + Procedural + Functional\n",
        "  - Nested Function\n",
        "  - Pass function as an argument"
      ]
    },
    {
      "cell_type": "markdown",
      "metadata": {
        "id": "hFcYsPBD5v_P"
      },
      "source": [
        "Python Basics"
      ]
    },
    {
      "cell_type": "code",
      "metadata": {
        "id": "rtvEiA185gEp"
      },
      "source": [
        "x = 10\n",
        "y = 20"
      ],
      "execution_count": 1,
      "outputs": []
    },
    {
      "cell_type": "code",
      "metadata": {
        "colab": {
          "base_uri": "https://localhost:8080/"
        },
        "id": "8NSkVKI75tw8",
        "outputId": "7c30eca8-0fba-49ab-fc8a-c1d5af822f90"
      },
      "source": [
        "x + y"
      ],
      "execution_count": 2,
      "outputs": [
        {
          "output_type": "execute_result",
          "data": {
            "text/plain": [
              "30"
            ]
          },
          "metadata": {},
          "execution_count": 2
        }
      ]
    },
    {
      "cell_type": "code",
      "metadata": {
        "colab": {
          "base_uri": "https://localhost:8080/"
        },
        "id": "chcfKGym51zI",
        "outputId": "cb594c7d-5bec-4e1f-97f0-289dede24037"
      },
      "source": [
        "x - y"
      ],
      "execution_count": 3,
      "outputs": [
        {
          "output_type": "execute_result",
          "data": {
            "text/plain": [
              "-10"
            ]
          },
          "metadata": {},
          "execution_count": 3
        }
      ]
    },
    {
      "cell_type": "code",
      "metadata": {
        "id": "WoePLN-0524l"
      },
      "source": [
        "x,y = 10,20"
      ],
      "execution_count": 4,
      "outputs": []
    },
    {
      "cell_type": "code",
      "metadata": {
        "id": "TOLz2dYw55y2"
      },
      "source": [
        "x,y = y,x"
      ],
      "execution_count": 5,
      "outputs": []
    },
    {
      "cell_type": "code",
      "metadata": {
        "colab": {
          "base_uri": "https://localhost:8080/"
        },
        "id": "9SDNeUDu58NF",
        "outputId": "e59844c2-1fe7-410e-f7e6-922c5da5ef3f"
      },
      "source": [
        "print(x,y)"
      ],
      "execution_count": 6,
      "outputs": [
        {
          "output_type": "stream",
          "name": "stdout",
          "text": [
            "20 10\n"
          ]
        }
      ]
    },
    {
      "cell_type": "code",
      "metadata": {
        "colab": {
          "base_uri": "https://localhost:8080/"
        },
        "id": "VDMnM2v05-KW",
        "outputId": "43efba40-4720-412a-c533-a4d46d2d3b3b"
      },
      "source": [
        "z = x + y\n",
        "# f-strings\n",
        "print(f\"Sum of {x} and {y} is {z}\")"
      ],
      "execution_count": 7,
      "outputs": [
        {
          "output_type": "stream",
          "name": "stdout",
          "text": [
            "Sum of 20 and 10 is 30\n"
          ]
        }
      ]
    },
    {
      "cell_type": "code",
      "metadata": {
        "colab": {
          "base_uri": "https://localhost:8080/"
        },
        "id": "P4hDVSvf6IEJ",
        "outputId": "18c53b3c-8aaa-4212-df9a-abba307672eb"
      },
      "source": [
        "x = input(\"Enter first number : \")\n",
        "y = input(\"Enter second number : \")\n",
        "z = x + y\n",
        "print(\"Sum is\",z)"
      ],
      "execution_count": 8,
      "outputs": [
        {
          "output_type": "stream",
          "name": "stdout",
          "text": [
            "Enter first number : 5\n",
            "Enter second number : 4\n",
            "Sum is 54\n"
          ]
        }
      ]
    },
    {
      "cell_type": "code",
      "metadata": {
        "colab": {
          "base_uri": "https://localhost:8080/"
        },
        "id": "5So_1XoM6Xgy",
        "outputId": "c82f5f91-520e-4d50-f155-b936d4c16b1d"
      },
      "source": [
        "type(x)"
      ],
      "execution_count": 9,
      "outputs": [
        {
          "output_type": "execute_result",
          "data": {
            "text/plain": [
              "str"
            ]
          },
          "metadata": {},
          "execution_count": 9
        }
      ]
    },
    {
      "cell_type": "code",
      "metadata": {
        "colab": {
          "base_uri": "https://localhost:8080/"
        },
        "id": "eLA9r5zy6m7f",
        "outputId": "ccaaf8cf-aeb8-46d4-a0ea-913865cb4b19"
      },
      "source": [
        "x = int(input(\"Enter first number : \"))\n",
        "y = int(input(\"Enter second number : \"))\n",
        "z = x + y\n",
        "print(\"Sum is\",z)"
      ],
      "execution_count": 10,
      "outputs": [
        {
          "output_type": "stream",
          "name": "stdout",
          "text": [
            "Enter first number : 5\n",
            "Enter second number : 4\n",
            "Sum is 9\n"
          ]
        }
      ]
    },
    {
      "cell_type": "code",
      "metadata": {
        "id": "eFc5cili6sun"
      },
      "source": [
        "file = open('output.txt','w')\n",
        "data = f\"Output is {z}\"\n",
        "file.write(data)\n",
        "file.close()"
      ],
      "execution_count": 12,
      "outputs": []
    },
    {
      "cell_type": "code",
      "metadata": {
        "colab": {
          "base_uri": "https://localhost:8080/",
          "height": 35
        },
        "id": "WC1znImK7E8s",
        "outputId": "4fdff2f3-16d0-4453-d0af-99f9bfe56f70"
      },
      "source": [
        "'4' + '5'"
      ],
      "execution_count": 14,
      "outputs": [
        {
          "output_type": "execute_result",
          "data": {
            "application/vnd.google.colaboratory.intrinsic+json": {
              "type": "string"
            },
            "text/plain": [
              "'45'"
            ]
          },
          "metadata": {},
          "execution_count": 14
        }
      ]
    },
    {
      "cell_type": "markdown",
      "metadata": {
        "id": "9988h9877o5I"
      },
      "source": [
        "Loops Introduction\n",
        "- for\n",
        "- while"
      ]
    },
    {
      "cell_type": "code",
      "metadata": {
        "colab": {
          "base_uri": "https://localhost:8080/"
        },
        "id": "rLWkwcEM7XN5",
        "outputId": "56c92f0b-e4e7-4996-a315-e2beab791d43"
      },
      "source": [
        "# for(int i = 10; i <= 10; i++) {\n",
        "    \n",
        "# }\n",
        "\n",
        "for i in range(5):\n",
        "  print(\"I is\",i)\n",
        "  print(\"=\"*10)\n",
        "print(\"Exit from loop...\")"
      ],
      "execution_count": 19,
      "outputs": [
        {
          "output_type": "stream",
          "name": "stdout",
          "text": [
            "I is 0\n",
            "==========\n",
            "I is 1\n",
            "==========\n",
            "I is 2\n",
            "==========\n",
            "I is 3\n",
            "==========\n",
            "I is 4\n",
            "==========\n",
            "Exit from loop...\n"
          ]
        }
      ]
    },
    {
      "cell_type": "code",
      "metadata": {
        "colab": {
          "base_uri": "https://localhost:8080/"
        },
        "id": "0sCkQYHJ8QP1",
        "outputId": "269e040b-01c4-49a4-f530-26eab277a7fc"
      },
      "source": [
        "for i in range(1,11):\n",
        "  print(i, end=', ')"
      ],
      "execution_count": 21,
      "outputs": [
        {
          "output_type": "stream",
          "name": "stdout",
          "text": [
            "1, 2, 3, 4, 5, 6, 7, 8, 9, 10, "
          ]
        }
      ]
    },
    {
      "cell_type": "code",
      "metadata": {
        "colab": {
          "base_uri": "https://localhost:8080/"
        },
        "id": "y-RrWrsi876s",
        "outputId": "f3013a1b-f92b-41f7-963b-40d217a9a464"
      },
      "source": [
        "for i in range(10):\n",
        "  if i % 2 == 0:\n",
        "    print(f\"{i} is even\")\n",
        "  else:\n",
        "    print(f\"{i} is odd\")"
      ],
      "execution_count": 22,
      "outputs": [
        {
          "output_type": "stream",
          "name": "stdout",
          "text": [
            "0 is even\n",
            "1 is odd\n",
            "2 is even\n",
            "3 is odd\n",
            "4 is even\n",
            "5 is odd\n",
            "6 is even\n",
            "7 is odd\n",
            "8 is even\n",
            "9 is odd\n"
          ]
        }
      ]
    },
    {
      "cell_type": "code",
      "metadata": {
        "id": "AFMMfgtK9V3K"
      },
      "source": [
        "x,y,z = 10,20,30"
      ],
      "execution_count": 23,
      "outputs": []
    },
    {
      "cell_type": "code",
      "metadata": {
        "colab": {
          "base_uri": "https://localhost:8080/"
        },
        "id": "MBBADjPQ9dJL",
        "outputId": "a2f242f3-7e0f-4c0a-e0eb-fe7b9f568f8f"
      },
      "source": [
        "if x > y and x > z:\n",
        "  print(\"X is greatest..\")\n",
        "elif y > x and y > z:\n",
        "  print(\"Y is greatest..\")\n",
        "else:\n",
        "  print(\"Z is greatest..\")"
      ],
      "execution_count": 24,
      "outputs": [
        {
          "output_type": "stream",
          "name": "stdout",
          "text": [
            "Z is greatest..\n"
          ]
        }
      ]
    },
    {
      "cell_type": "code",
      "metadata": {
        "colab": {
          "base_uri": "https://localhost:8080/"
        },
        "id": "yEv4rBFiCOyO",
        "outputId": "d469fb8e-eeb4-4ebf-8ee0-fe06787a969c"
      },
      "source": [
        "for i in range(2,21,2):\n",
        "  print(i)"
      ],
      "execution_count": 36,
      "outputs": [
        {
          "output_type": "stream",
          "name": "stdout",
          "text": [
            "2\n",
            "4\n",
            "6\n",
            "8\n",
            "10\n",
            "12\n",
            "14\n",
            "16\n",
            "18\n",
            "20\n"
          ]
        }
      ]
    },
    {
      "cell_type": "code",
      "metadata": {
        "colab": {
          "base_uri": "https://localhost:8080/"
        },
        "id": "kgAPY1jhDMsE",
        "outputId": "f6c539a9-05e7-48dc-ce0c-9c5239fbd932"
      },
      "source": [
        "for i in range(10,1,-1):\n",
        "  print(i)"
      ],
      "execution_count": 47,
      "outputs": [
        {
          "output_type": "stream",
          "name": "stdout",
          "text": [
            "10\n",
            "9\n",
            "8\n",
            "7\n",
            "6\n",
            "5\n",
            "4\n",
            "3\n",
            "2\n"
          ]
        }
      ]
    },
    {
      "cell_type": "code",
      "metadata": {
        "id": "9kx3dM0Y9pb-"
      },
      "source": [
        "import random"
      ],
      "execution_count": 25,
      "outputs": []
    },
    {
      "cell_type": "code",
      "metadata": {
        "colab": {
          "base_uri": "https://localhost:8080/"
        },
        "id": "Am2eQGWh99pU",
        "outputId": "c4a7983c-fe6f-48d8-9486-f03bf52761f4"
      },
      "source": [
        "cpu = random.randint(1,100)\n",
        "counter = 5\n",
        "while True:\n",
        "  guess = int(input(\"Enter your guess : \"))\n",
        "  if cpu == guess:\n",
        "    print(\"Congrats...You won...\")\n",
        "    break\n",
        "  elif cpu > guess:\n",
        "    print(\"Smaller Number...\")\n",
        "  elif cpu < guess:\n",
        "    print(\"Larger Number...\")\n",
        "  else:\n",
        "    print(\"Invalid Number...\")\n",
        "  counter -= 1\n",
        "  print(\"Chances Left :\",counter)\n",
        "  if counter == 0:\n",
        "    print(\"You Lose...Number was : \",cpu)\n",
        "    break"
      ],
      "execution_count": 30,
      "outputs": [
        {
          "output_type": "stream",
          "name": "stdout",
          "text": [
            "Enter your guess : 50\n",
            "Larger Number...\n",
            "Chances Left : 4\n",
            "Enter your guess : 30\n",
            "Larger Number...\n",
            "Chances Left : 3\n",
            "Enter your guess : 20\n",
            "Smaller Number...\n",
            "Chances Left : 2\n",
            "Enter your guess : 25\n",
            "Larger Number...\n",
            "Chances Left : 1\n",
            "Enter your guess : 23\n",
            "Smaller Number...\n",
            "Chances Left : 0\n",
            "You Lose...Number was :  24\n"
          ]
        }
      ]
    },
    {
      "cell_type": "markdown",
      "metadata": {
        "id": "HVGy4dvEBEdL"
      },
      "source": [
        "Data Collections\n",
        "- Strings\n",
        "  - collection of letter, word, para\n",
        "  - represented by '...', \"...\", \"\"\"...\"\"\"\n",
        "- List\n",
        "  - collection of any type of data\n",
        "  - represented by [10,3l,23.44,\"hi\",True]\n",
        "- Tuples\n",
        "  - similar to list, but immutable\n",
        "  - represented by (...)\n",
        "- Dictionary\n",
        "  - collection of data in key and value pair\n",
        "  - represented by {key:value}\n",
        "- Set\n",
        "  - collection of unordered and unique data\n",
        "  - represented by {...}"
      ]
    },
    {
      "cell_type": "code",
      "metadata": {
        "id": "GAvBpyog-cy-"
      },
      "source": [
        "text = \"hello world, this is python\""
      ],
      "execution_count": 31,
      "outputs": []
    },
    {
      "cell_type": "code",
      "metadata": {
        "colab": {
          "base_uri": "https://localhost:8080/",
          "height": 35
        },
        "id": "3knBoqGmB5Vt",
        "outputId": "ddbeab75-7d66-4025-c7fe-3d5cb46c88ad"
      },
      "source": [
        "text[0]"
      ],
      "execution_count": 32,
      "outputs": [
        {
          "output_type": "execute_result",
          "data": {
            "application/vnd.google.colaboratory.intrinsic+json": {
              "type": "string"
            },
            "text/plain": [
              "'h'"
            ]
          },
          "metadata": {},
          "execution_count": 32
        }
      ]
    },
    {
      "cell_type": "code",
      "metadata": {
        "colab": {
          "base_uri": "https://localhost:8080/",
          "height": 35
        },
        "id": "Oz_D7hugB6Q2",
        "outputId": "c6b32d13-d909-4dc3-d44d-b5f1009dfd8c"
      },
      "source": [
        "# 0,1,2,3\n",
        "text[0:4]"
      ],
      "execution_count": 34,
      "outputs": [
        {
          "output_type": "execute_result",
          "data": {
            "application/vnd.google.colaboratory.intrinsic+json": {
              "type": "string"
            },
            "text/plain": [
              "'hell'"
            ]
          },
          "metadata": {},
          "execution_count": 34
        }
      ]
    },
    {
      "cell_type": "code",
      "metadata": {
        "colab": {
          "base_uri": "https://localhost:8080/",
          "height": 35
        },
        "id": "wrMcMChyB7F7",
        "outputId": "12bef7ec-e0f8-469e-cbc2-bf560bb84ccd"
      },
      "source": [
        "text[0:10:2]"
      ],
      "execution_count": 35,
      "outputs": [
        {
          "output_type": "execute_result",
          "data": {
            "application/vnd.google.colaboratory.intrinsic+json": {
              "type": "string"
            },
            "text/plain": [
              "'hlowr'"
            ]
          },
          "metadata": {},
          "execution_count": 35
        }
      ]
    },
    {
      "cell_type": "code",
      "metadata": {
        "colab": {
          "base_uri": "https://localhost:8080/",
          "height": 35
        },
        "id": "JxN7IVGECBi8",
        "outputId": "9f5e0db7-914b-4632-c53c-5cd950c5a6a4"
      },
      "source": [
        "text[-1]"
      ],
      "execution_count": 37,
      "outputs": [
        {
          "output_type": "execute_result",
          "data": {
            "application/vnd.google.colaboratory.intrinsic+json": {
              "type": "string"
            },
            "text/plain": [
              "'n'"
            ]
          },
          "metadata": {},
          "execution_count": 37
        }
      ]
    },
    {
      "cell_type": "code",
      "metadata": {
        "colab": {
          "base_uri": "https://localhost:8080/",
          "height": 35
        },
        "id": "7Jg51DLACaBY",
        "outputId": "13698749-c60b-4401-f4dd-852f1466d210"
      },
      "source": [
        "text[-10]"
      ],
      "execution_count": 38,
      "outputs": [
        {
          "output_type": "execute_result",
          "data": {
            "application/vnd.google.colaboratory.intrinsic+json": {
              "type": "string"
            },
            "text/plain": [
              "' '"
            ]
          },
          "metadata": {},
          "execution_count": 38
        }
      ]
    },
    {
      "cell_type": "code",
      "metadata": {
        "colab": {
          "base_uri": "https://localhost:8080/",
          "height": 35
        },
        "id": "Qe4NLKyTCb1E",
        "outputId": "b25ea718-b5b0-4497-e546-9b877362a87f"
      },
      "source": [
        "text[0:10]"
      ],
      "execution_count": 39,
      "outputs": [
        {
          "output_type": "execute_result",
          "data": {
            "application/vnd.google.colaboratory.intrinsic+json": {
              "type": "string"
            },
            "text/plain": [
              "'hello worl'"
            ]
          },
          "metadata": {},
          "execution_count": 39
        }
      ]
    },
    {
      "cell_type": "code",
      "metadata": {
        "colab": {
          "base_uri": "https://localhost:8080/",
          "height": 35
        },
        "id": "O0vlsK4vCfIA",
        "outputId": "2ca95e73-c303-448b-8376-e537e2af1cf9"
      },
      "source": [
        "text[:]"
      ],
      "execution_count": 40,
      "outputs": [
        {
          "output_type": "execute_result",
          "data": {
            "application/vnd.google.colaboratory.intrinsic+json": {
              "type": "string"
            },
            "text/plain": [
              "'hello world, this is python'"
            ]
          },
          "metadata": {},
          "execution_count": 40
        }
      ]
    },
    {
      "cell_type": "code",
      "metadata": {
        "colab": {
          "base_uri": "https://localhost:8080/",
          "height": 35
        },
        "id": "qWE3beHBCgmv",
        "outputId": "c79ffd51-0b4b-46e2-d915-02be05986862"
      },
      "source": [
        "text[:10]"
      ],
      "execution_count": 41,
      "outputs": [
        {
          "output_type": "execute_result",
          "data": {
            "application/vnd.google.colaboratory.intrinsic+json": {
              "type": "string"
            },
            "text/plain": [
              "'hello worl'"
            ]
          },
          "metadata": {},
          "execution_count": 41
        }
      ]
    },
    {
      "cell_type": "code",
      "metadata": {
        "colab": {
          "base_uri": "https://localhost:8080/",
          "height": 35
        },
        "id": "G0xUQGgPCihR",
        "outputId": "6269ee64-04c5-429b-ba6e-134d59e80966"
      },
      "source": [
        "text[0:]"
      ],
      "execution_count": 42,
      "outputs": [
        {
          "output_type": "execute_result",
          "data": {
            "application/vnd.google.colaboratory.intrinsic+json": {
              "type": "string"
            },
            "text/plain": [
              "'hello world, this is python'"
            ]
          },
          "metadata": {},
          "execution_count": 42
        }
      ]
    },
    {
      "cell_type": "code",
      "metadata": {
        "colab": {
          "base_uri": "https://localhost:8080/",
          "height": 35
        },
        "id": "EkFSAKfICjp-",
        "outputId": "e31a1e3a-da4e-4b2a-a77b-25428ac06c10"
      },
      "source": [
        "text[0:-1]"
      ],
      "execution_count": 43,
      "outputs": [
        {
          "output_type": "execute_result",
          "data": {
            "application/vnd.google.colaboratory.intrinsic+json": {
              "type": "string"
            },
            "text/plain": [
              "'hello world, this is pytho'"
            ]
          },
          "metadata": {},
          "execution_count": 43
        }
      ]
    },
    {
      "cell_type": "code",
      "metadata": {
        "colab": {
          "base_uri": "https://localhost:8080/",
          "height": 35
        },
        "id": "pM6WZjGDCxnw",
        "outputId": "c94e2f03-4e3e-48ad-b68d-0138766d2f40"
      },
      "source": [
        "text[9:0:-1]"
      ],
      "execution_count": 45,
      "outputs": [
        {
          "output_type": "execute_result",
          "data": {
            "application/vnd.google.colaboratory.intrinsic+json": {
              "type": "string"
            },
            "text/plain": [
              "'lrow olle'"
            ]
          },
          "metadata": {},
          "execution_count": 45
        }
      ]
    },
    {
      "cell_type": "code",
      "metadata": {
        "id": "mPVcNMGsDrJG"
      },
      "source": [
        "x = [3,54,76,6,3]"
      ],
      "execution_count": 50,
      "outputs": []
    },
    {
      "cell_type": "code",
      "metadata": {
        "id": "pouvdu-NDrAb"
      },
      "source": [
        "x = [3,5,6,4,'hi',4.5,True]"
      ],
      "execution_count": 51,
      "outputs": []
    },
    {
      "cell_type": "code",
      "metadata": {
        "colab": {
          "base_uri": "https://localhost:8080/"
        },
        "id": "E0LqjyTPDxRK",
        "outputId": "969f8e4b-aefd-4b07-bc1c-39d29eb72094"
      },
      "source": [
        "x"
      ],
      "execution_count": 52,
      "outputs": [
        {
          "output_type": "execute_result",
          "data": {
            "text/plain": [
              "[3, 5, 6, 4, 'hi', 4.5, True]"
            ]
          },
          "metadata": {},
          "execution_count": 52
        }
      ]
    },
    {
      "cell_type": "code",
      "metadata": {
        "id": "F21qIcC8ELza"
      },
      "source": [
        "x = [[4,4,3,6,2],[2,34,6,8,3],[1,4,8,9,4]]"
      ],
      "execution_count": 57,
      "outputs": []
    },
    {
      "cell_type": "code",
      "metadata": {
        "colab": {
          "base_uri": "https://localhost:8080/"
        },
        "id": "d21F1PW0EMXr",
        "outputId": "749e6fc7-4c4c-485b-c98e-f407dc156ffe"
      },
      "source": [
        "x"
      ],
      "execution_count": 58,
      "outputs": [
        {
          "output_type": "execute_result",
          "data": {
            "text/plain": [
              "[[4, 4, 3, 6, 2], [2, 34, 6, 8, 3], [1, 4, 8, 9, 4]]"
            ]
          },
          "metadata": {},
          "execution_count": 58
        }
      ]
    },
    {
      "cell_type": "code",
      "metadata": {
        "id": "pAu7pqxYDEG4"
      },
      "source": [
        "import numpy as np"
      ],
      "execution_count": 48,
      "outputs": []
    },
    {
      "cell_type": "code",
      "metadata": {
        "colab": {
          "base_uri": "https://localhost:8080/"
        },
        "id": "L4B-wsWTDmj4",
        "outputId": "42be30ad-682e-43bd-f58b-b30dae783fe2"
      },
      "source": [
        "np.array([4,54,7,6,4,3])"
      ],
      "execution_count": 49,
      "outputs": [
        {
          "output_type": "execute_result",
          "data": {
            "text/plain": [
              "array([ 4, 54,  7,  6,  4,  3])"
            ]
          },
          "metadata": {},
          "execution_count": 49
        }
      ]
    },
    {
      "cell_type": "code",
      "metadata": {
        "colab": {
          "base_uri": "https://localhost:8080/"
        },
        "id": "y1QpONS3Dp-O",
        "outputId": "c288fecb-f403-44f0-e2cc-b142b38d6eb5"
      },
      "source": [
        "np.array([45,3,5,6,3,45.5,3])"
      ],
      "execution_count": 53,
      "outputs": [
        {
          "output_type": "execute_result",
          "data": {
            "text/plain": [
              "array([45. ,  3. ,  5. ,  6. ,  3. , 45.5,  3. ])"
            ]
          },
          "metadata": {},
          "execution_count": 53
        }
      ]
    },
    {
      "cell_type": "code",
      "metadata": {
        "id": "k9aeE8a8D004"
      },
      "source": [
        "x = np.array([[4,4,3,6,2],[2,34,6,8,3],[1,4,8,9,4]])"
      ],
      "execution_count": 63,
      "outputs": []
    },
    {
      "cell_type": "code",
      "metadata": {
        "colab": {
          "base_uri": "https://localhost:8080/"
        },
        "id": "06-4vM0nEITi",
        "outputId": "332cfb7e-8423-44cd-baa8-7b4dd03b68af"
      },
      "source": [
        "x"
      ],
      "execution_count": 55,
      "outputs": [
        {
          "output_type": "execute_result",
          "data": {
            "text/plain": [
              "array([[ 4,  4,  3,  6,  2],\n",
              "       [ 2, 34,  6,  8,  3],\n",
              "       [ 1,  4,  8,  9,  4]])"
            ]
          },
          "metadata": {},
          "execution_count": 55
        }
      ]
    },
    {
      "cell_type": "code",
      "metadata": {
        "colab": {
          "base_uri": "https://localhost:8080/"
        },
        "id": "Gb7Qobu_EIgm",
        "outputId": "5cf8658f-67c8-4a1c-eed5-181904b39798"
      },
      "source": [
        "x[0]"
      ],
      "execution_count": 59,
      "outputs": [
        {
          "output_type": "execute_result",
          "data": {
            "text/plain": [
              "[4, 4, 3, 6, 2]"
            ]
          },
          "metadata": {},
          "execution_count": 59
        }
      ]
    },
    {
      "cell_type": "code",
      "metadata": {
        "colab": {
          "base_uri": "https://localhost:8080/"
        },
        "id": "kiKIDVy0EQNs",
        "outputId": "8c5ee849-4aa8-4828-e5bc-8cc75354c367"
      },
      "source": [
        "x[1]"
      ],
      "execution_count": 60,
      "outputs": [
        {
          "output_type": "execute_result",
          "data": {
            "text/plain": [
              "[2, 34, 6, 8, 3]"
            ]
          },
          "metadata": {},
          "execution_count": 60
        }
      ]
    },
    {
      "cell_type": "code",
      "metadata": {
        "colab": {
          "base_uri": "https://localhost:8080/"
        },
        "id": "wEiGvbp6EQvv",
        "outputId": "cc39c20b-13e6-4fd4-eb73-97580c20538d"
      },
      "source": [
        "x[0][0]"
      ],
      "execution_count": 64,
      "outputs": [
        {
          "output_type": "execute_result",
          "data": {
            "text/plain": [
              "4"
            ]
          },
          "metadata": {},
          "execution_count": 64
        }
      ]
    },
    {
      "cell_type": "code",
      "metadata": {
        "colab": {
          "base_uri": "https://localhost:8080/"
        },
        "id": "uQJaqw04EUMe",
        "outputId": "eb27984d-67e7-46ab-a6c6-b1aa546d68e7"
      },
      "source": [
        "x[:,0]"
      ],
      "execution_count": 65,
      "outputs": [
        {
          "output_type": "execute_result",
          "data": {
            "text/plain": [
              "array([4, 2, 1])"
            ]
          },
          "metadata": {},
          "execution_count": 65
        }
      ]
    },
    {
      "cell_type": "code",
      "metadata": {
        "colab": {
          "base_uri": "https://localhost:8080/"
        },
        "id": "S06pnopsEXhT",
        "outputId": "fe864b03-ba6f-4992-c442-3f1c33dcd4d2"
      },
      "source": [
        "x[:,0:3]"
      ],
      "execution_count": 66,
      "outputs": [
        {
          "output_type": "execute_result",
          "data": {
            "text/plain": [
              "array([[ 4,  4,  3],\n",
              "       [ 2, 34,  6],\n",
              "       [ 1,  4,  8]])"
            ]
          },
          "metadata": {},
          "execution_count": 66
        }
      ]
    },
    {
      "cell_type": "code",
      "metadata": {
        "id": "0obOZARMEjEV"
      },
      "source": [
        "x = (4,5,6,6,3)"
      ],
      "execution_count": 67,
      "outputs": []
    },
    {
      "cell_type": "code",
      "metadata": {
        "colab": {
          "base_uri": "https://localhost:8080/"
        },
        "id": "ChOcm-x4E68g",
        "outputId": "732edd8f-bffc-4f79-d717-24a1d2bc067d"
      },
      "source": [
        "x[0]"
      ],
      "execution_count": 68,
      "outputs": [
        {
          "output_type": "execute_result",
          "data": {
            "text/plain": [
              "4"
            ]
          },
          "metadata": {},
          "execution_count": 68
        }
      ]
    },
    {
      "cell_type": "code",
      "metadata": {
        "id": "fguYDPgME7yJ"
      },
      "source": [
        "# x[0] = 10\n",
        "# del x[0]"
      ],
      "execution_count": 71,
      "outputs": []
    },
    {
      "cell_type": "code",
      "metadata": {
        "id": "S27AECzKE8jO"
      },
      "source": [
        "data = {\"name\":\"Ram\",\"age\":44,\"salary\":56000}"
      ],
      "execution_count": 72,
      "outputs": []
    },
    {
      "cell_type": "code",
      "metadata": {
        "colab": {
          "base_uri": "https://localhost:8080/",
          "height": 35
        },
        "id": "95UlV8xEFG6c",
        "outputId": "b62f8aaf-6b87-4fd8-9e95-2315d23bc6d1"
      },
      "source": [
        "data[\"name\"]"
      ],
      "execution_count": 74,
      "outputs": [
        {
          "output_type": "execute_result",
          "data": {
            "application/vnd.google.colaboratory.intrinsic+json": {
              "type": "string"
            },
            "text/plain": [
              "'Ram'"
            ]
          },
          "metadata": {},
          "execution_count": 74
        }
      ]
    },
    {
      "cell_type": "code",
      "metadata": {
        "colab": {
          "base_uri": "https://localhost:8080/"
        },
        "id": "n-DyIdDpFMpp",
        "outputId": "25295464-5a05-4d9b-dddc-4bad7a0f28e1"
      },
      "source": [
        "data.keys()"
      ],
      "execution_count": 75,
      "outputs": [
        {
          "output_type": "execute_result",
          "data": {
            "text/plain": [
              "dict_keys(['name', 'age', 'salary'])"
            ]
          },
          "metadata": {},
          "execution_count": 75
        }
      ]
    },
    {
      "cell_type": "code",
      "metadata": {
        "colab": {
          "base_uri": "https://localhost:8080/"
        },
        "id": "LhPEOvMWFRzg",
        "outputId": "ab58ea49-0f5d-4220-fc81-946dff75a71a"
      },
      "source": [
        "data.values()"
      ],
      "execution_count": 76,
      "outputs": [
        {
          "output_type": "execute_result",
          "data": {
            "text/plain": [
              "dict_values(['Ram', 44, 56000])"
            ]
          },
          "metadata": {},
          "execution_count": 76
        }
      ]
    },
    {
      "cell_type": "code",
      "metadata": {
        "colab": {
          "base_uri": "https://localhost:8080/"
        },
        "id": "Ace1tg6kFTIN",
        "outputId": "0b536949-9748-49cd-d014-d35409227ab2"
      },
      "source": [
        "data.items()"
      ],
      "execution_count": 77,
      "outputs": [
        {
          "output_type": "execute_result",
          "data": {
            "text/plain": [
              "dict_items([('name', 'Ram'), ('age', 44), ('salary', 56000)])"
            ]
          },
          "metadata": {},
          "execution_count": 77
        }
      ]
    },
    {
      "cell_type": "code",
      "metadata": {
        "id": "p2v7FPZCFaVU"
      },
      "source": [
        "data = {\n",
        "    \"names\" : [\"Ram\",\"Shyam\",\"Gopal\",\"Mohit\",\"Amit\"],\n",
        "    \"salary\" : [56000,33450,50000,25000,68000],\n",
        "    \"dept\" : [\"IT\",\"HR\",\"IT\",\"IT\",\"HR\"]\n",
        "}"
      ],
      "execution_count": 78,
      "outputs": []
    },
    {
      "cell_type": "code",
      "metadata": {
        "colab": {
          "base_uri": "https://localhost:8080/"
        },
        "id": "TGH8zO_4FnPA",
        "outputId": "1f3c16a5-ebfa-46bc-87d0-d474694e7d18"
      },
      "source": [
        "data[\"names\"]"
      ],
      "execution_count": 79,
      "outputs": [
        {
          "output_type": "execute_result",
          "data": {
            "text/plain": [
              "['Ram', 'Shyam', 'Gopal', 'Mohit', 'Amit']"
            ]
          },
          "metadata": {},
          "execution_count": 79
        }
      ]
    },
    {
      "cell_type": "code",
      "metadata": {
        "colab": {
          "base_uri": "https://localhost:8080/",
          "height": 35
        },
        "id": "JAxgNK6XFomc",
        "outputId": "33477998-bcfa-4f6b-f53a-a4746139dbed"
      },
      "source": [
        "data[\"names\"][0]"
      ],
      "execution_count": 80,
      "outputs": [
        {
          "output_type": "execute_result",
          "data": {
            "application/vnd.google.colaboratory.intrinsic+json": {
              "type": "string"
            },
            "text/plain": [
              "'Ram'"
            ]
          },
          "metadata": {},
          "execution_count": 80
        }
      ]
    },
    {
      "cell_type": "code",
      "metadata": {
        "id": "srlVN0pJFqXZ"
      },
      "source": [
        "import pandas as pd"
      ],
      "execution_count": 81,
      "outputs": []
    },
    {
      "cell_type": "code",
      "metadata": {
        "id": "REq-sDECFuEE"
      },
      "source": [
        "df = pd.DataFrame(data)"
      ],
      "execution_count": 82,
      "outputs": []
    },
    {
      "cell_type": "code",
      "metadata": {
        "colab": {
          "base_uri": "https://localhost:8080/",
          "height": 206
        },
        "id": "IqhuF66YFwU0",
        "outputId": "25be9039-6ffd-40d3-ecb7-7ac97463d783"
      },
      "source": [
        "df"
      ],
      "execution_count": 83,
      "outputs": [
        {
          "output_type": "execute_result",
          "data": {
            "text/html": [
              "<div>\n",
              "<style scoped>\n",
              "    .dataframe tbody tr th:only-of-type {\n",
              "        vertical-align: middle;\n",
              "    }\n",
              "\n",
              "    .dataframe tbody tr th {\n",
              "        vertical-align: top;\n",
              "    }\n",
              "\n",
              "    .dataframe thead th {\n",
              "        text-align: right;\n",
              "    }\n",
              "</style>\n",
              "<table border=\"1\" class=\"dataframe\">\n",
              "  <thead>\n",
              "    <tr style=\"text-align: right;\">\n",
              "      <th></th>\n",
              "      <th>names</th>\n",
              "      <th>salary</th>\n",
              "      <th>dept</th>\n",
              "    </tr>\n",
              "  </thead>\n",
              "  <tbody>\n",
              "    <tr>\n",
              "      <th>0</th>\n",
              "      <td>Ram</td>\n",
              "      <td>56000</td>\n",
              "      <td>IT</td>\n",
              "    </tr>\n",
              "    <tr>\n",
              "      <th>1</th>\n",
              "      <td>Shyam</td>\n",
              "      <td>33450</td>\n",
              "      <td>HR</td>\n",
              "    </tr>\n",
              "    <tr>\n",
              "      <th>2</th>\n",
              "      <td>Gopal</td>\n",
              "      <td>50000</td>\n",
              "      <td>IT</td>\n",
              "    </tr>\n",
              "    <tr>\n",
              "      <th>3</th>\n",
              "      <td>Mohit</td>\n",
              "      <td>25000</td>\n",
              "      <td>IT</td>\n",
              "    </tr>\n",
              "    <tr>\n",
              "      <th>4</th>\n",
              "      <td>Amit</td>\n",
              "      <td>68000</td>\n",
              "      <td>HR</td>\n",
              "    </tr>\n",
              "  </tbody>\n",
              "</table>\n",
              "</div>"
            ],
            "text/plain": [
              "   names  salary dept\n",
              "0    Ram   56000   IT\n",
              "1  Shyam   33450   HR\n",
              "2  Gopal   50000   IT\n",
              "3  Mohit   25000   IT\n",
              "4   Amit   68000   HR"
            ]
          },
          "metadata": {},
          "execution_count": 83
        }
      ]
    },
    {
      "cell_type": "code",
      "metadata": {
        "id": "0o6iUhtgFw0o"
      },
      "source": [
        "import matplotlib.pyplot as plt"
      ],
      "execution_count": 84,
      "outputs": []
    },
    {
      "cell_type": "code",
      "metadata": {
        "colab": {
          "base_uri": "https://localhost:8080/",
          "height": 265
        },
        "id": "hyY_1VvtF86I",
        "outputId": "bfd1d7c7-0a58-49e8-b71c-0382a3035f28"
      },
      "source": [
        "plt.bar(df['names'], df['salary'])\n",
        "plt.show()"
      ],
      "execution_count": 85,
      "outputs": [
        {
          "output_type": "display_data",
          "data": {
            "image/png": "[encoded data removed]",
            "text/plain": [
              "<Figure size 432x288 with 1 Axes>"
            ]
          },
          "metadata": {
            "needs_background": "light"
          }
        }
      ]
    },
    {
      "cell_type": "code",
      "metadata": {
        "colab": {
          "base_uri": "https://localhost:8080/",
          "height": 265
        },
        "id": "5-kqGQbGGBdq",
        "outputId": "d465de4e-69ba-4a99-d485-6573fa882a21"
      },
      "source": [
        "plt.barh(df['names'], df['salary'],color='red')\n",
        "plt.show()"
      ],
      "execution_count": 86,
      "outputs": [
        {
          "output_type": "display_data",
          "data": {
            "image/png": "[encoded data removed]",
            "text/plain": [
              "<Figure size 432x288 with 1 Axes>"
            ]
          },
          "metadata": {
            "needs_background": "light"
          }
        }
      ]
    },
    {
      "cell_type": "code",
      "metadata": {
        "colab": {
          "base_uri": "https://localhost:8080/",
          "height": 206
        },
        "id": "4oa0zoqIGFWA",
        "outputId": "6efaefaf-197b-48a1-fe56-c1b8ff6c903d"
      },
      "source": [
        "# df.sort_values(by='salary')\n",
        "df.sort_values(by='salary',ascending=False)"
      ],
      "execution_count": 88,
      "outputs": [
        {
          "output_type": "execute_result",
          "data": {
            "text/html": [
              "<div>\n",
              "<style scoped>\n",
              "    .dataframe tbody tr th:only-of-type {\n",
              "        vertical-align: middle;\n",
              "    }\n",
              "\n",
              "    .dataframe tbody tr th {\n",
              "        vertical-align: top;\n",
              "    }\n",
              "\n",
              "    .dataframe thead th {\n",
              "        text-align: right;\n",
              "    }\n",
              "</style>\n",
              "<table border=\"1\" class=\"dataframe\">\n",
              "  <thead>\n",
              "    <tr style=\"text-align: right;\">\n",
              "      <th></th>\n",
              "      <th>names</th>\n",
              "      <th>salary</th>\n",
              "      <th>dept</th>\n",
              "    </tr>\n",
              "  </thead>\n",
              "  <tbody>\n",
              "    <tr>\n",
              "      <th>4</th>\n",
              "      <td>Amit</td>\n",
              "      <td>68000</td>\n",
              "      <td>HR</td>\n",
              "    </tr>\n",
              "    <tr>\n",
              "      <th>0</th>\n",
              "      <td>Ram</td>\n",
              "      <td>56000</td>\n",
              "      <td>IT</td>\n",
              "    </tr>\n",
              "    <tr>\n",
              "      <th>2</th>\n",
              "      <td>Gopal</td>\n",
              "      <td>50000</td>\n",
              "      <td>IT</td>\n",
              "    </tr>\n",
              "    <tr>\n",
              "      <th>1</th>\n",
              "      <td>Shyam</td>\n",
              "      <td>33450</td>\n",
              "      <td>HR</td>\n",
              "    </tr>\n",
              "    <tr>\n",
              "      <th>3</th>\n",
              "      <td>Mohit</td>\n",
              "      <td>25000</td>\n",
              "      <td>IT</td>\n",
              "    </tr>\n",
              "  </tbody>\n",
              "</table>\n",
              "</div>"
            ],
            "text/plain": [
              "   names  salary dept\n",
              "4   Amit   68000   HR\n",
              "0    Ram   56000   IT\n",
              "2  Gopal   50000   IT\n",
              "1  Shyam   33450   HR\n",
              "3  Mohit   25000   IT"
            ]
          },
          "metadata": {},
          "execution_count": 88
        }
      ]
    },
    {
      "cell_type": "code",
      "metadata": {
        "colab": {
          "base_uri": "https://localhost:8080/",
          "height": 206
        },
        "id": "6u2tEho1GRz8",
        "outputId": "5403bfa8-7818-4635-fc34-ac2219c59be4"
      },
      "source": [
        "df.sort_values(by='salary',ascending=False).reset_index(drop=True)"
      ],
      "execution_count": 90,
      "outputs": [
        {
          "output_type": "execute_result",
          "data": {
            "text/html": [
              "<div>\n",
              "<style scoped>\n",
              "    .dataframe tbody tr th:only-of-type {\n",
              "        vertical-align: middle;\n",
              "    }\n",
              "\n",
              "    .dataframe tbody tr th {\n",
              "        vertical-align: top;\n",
              "    }\n",
              "\n",
              "    .dataframe thead th {\n",
              "        text-align: right;\n",
              "    }\n",
              "</style>\n",
              "<table border=\"1\" class=\"dataframe\">\n",
              "  <thead>\n",
              "    <tr style=\"text-align: right;\">\n",
              "      <th></th>\n",
              "      <th>names</th>\n",
              "      <th>salary</th>\n",
              "      <th>dept</th>\n",
              "    </tr>\n",
              "  </thead>\n",
              "  <tbody>\n",
              "    <tr>\n",
              "      <th>0</th>\n",
              "      <td>Amit</td>\n",
              "      <td>68000</td>\n",
              "      <td>HR</td>\n",
              "    </tr>\n",
              "    <tr>\n",
              "      <th>1</th>\n",
              "      <td>Ram</td>\n",
              "      <td>56000</td>\n",
              "      <td>IT</td>\n",
              "    </tr>\n",
              "    <tr>\n",
              "      <th>2</th>\n",
              "      <td>Gopal</td>\n",
              "      <td>50000</td>\n",
              "      <td>IT</td>\n",
              "    </tr>\n",
              "    <tr>\n",
              "      <th>3</th>\n",
              "      <td>Shyam</td>\n",
              "      <td>33450</td>\n",
              "      <td>HR</td>\n",
              "    </tr>\n",
              "    <tr>\n",
              "      <th>4</th>\n",
              "      <td>Mohit</td>\n",
              "      <td>25000</td>\n",
              "      <td>IT</td>\n",
              "    </tr>\n",
              "  </tbody>\n",
              "</table>\n",
              "</div>"
            ],
            "text/plain": [
              "   names  salary dept\n",
              "0   Amit   68000   HR\n",
              "1    Ram   56000   IT\n",
              "2  Gopal   50000   IT\n",
              "3  Shyam   33450   HR\n",
              "4  Mohit   25000   IT"
            ]
          },
          "metadata": {},
          "execution_count": 90
        }
      ]
    },
    {
      "cell_type": "code",
      "metadata": {
        "id": "hUE-tR3oGX7t"
      },
      "source": [
        ""
      ],
      "execution_count": null,
      "outputs": []
    }
  ]
}